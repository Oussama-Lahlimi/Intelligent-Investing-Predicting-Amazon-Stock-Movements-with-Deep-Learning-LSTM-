{
 "cells": [
  {
   "cell_type": "markdown",
   "id": "22227aee",
   "metadata": {},
   "source": [
    "# Import Library "
   ]
  },
  {
   "cell_type": "code",
   "execution_count": 67,
   "id": "80de466b",
   "metadata": {},
   "outputs": [],
   "source": [
    "from datetime import datetime, time, date\n",
    "import matplotlib.pyplot as plt \n",
    "import pandas as pd\n",
    "import numpy as np \n",
    "#################################################################\n",
    "from torch.utils.data import Dataset, DataLoader  \n",
    "from sklearn.preprocessing import MinMaxScaler  \n",
    "from copy import deepcopy as dc  \n",
    "import torch.nn as nn \n",
    "import torch  \n",
    "##################################################################\n",
    "# Importing PyTorch library for deep learning tasks\n",
    "# Importing neural network related classes and functions from PyTorch\n",
    "# Importing deepcopy function for creating deep copies of objects\n",
    "# Importing MinMaxScaler for feature scaling\n",
    "# Importing Dataset and DataLoader for handling datasets in PyTorch"
   ]
  },
  {
   "cell_type": "markdown",
   "id": "8477dfef",
   "metadata": {},
   "source": [
    "# Data collection"
   ]
  },
  {
   "cell_type": "code",
   "execution_count": 68,
   "id": "90cec0b9",
   "metadata": {},
   "outputs": [],
   "source": [
    "data =pd.read_csv(f'AMZN.csv')"
   ]
  },
  {
   "cell_type": "markdown",
   "id": "90f3a51b",
   "metadata": {},
   "source": [
    "# Data Exploratoir "
   ]
  },
  {
   "cell_type": "code",
   "execution_count": 69,
   "id": "da07725e",
   "metadata": {},
   "outputs": [
    {
     "data": {
      "text/html": [
       "<div>\n",
       "<style scoped>\n",
       "    .dataframe tbody tr th:only-of-type {\n",
       "        vertical-align: middle;\n",
       "    }\n",
       "\n",
       "    .dataframe tbody tr th {\n",
       "        vertical-align: top;\n",
       "    }\n",
       "\n",
       "    .dataframe thead th {\n",
       "        text-align: right;\n",
       "    }\n",
       "</style>\n",
       "<table border=\"1\" class=\"dataframe\">\n",
       "  <thead>\n",
       "    <tr style=\"text-align: right;\">\n",
       "      <th></th>\n",
       "      <th>Date</th>\n",
       "      <th>Open</th>\n",
       "      <th>High</th>\n",
       "      <th>Low</th>\n",
       "      <th>Close</th>\n",
       "      <th>Adj Close</th>\n",
       "      <th>Volume</th>\n",
       "    </tr>\n",
       "  </thead>\n",
       "  <tbody>\n",
       "    <tr>\n",
       "      <th>0</th>\n",
       "      <td>1997-05-15</td>\n",
       "      <td>0.121875</td>\n",
       "      <td>0.125000</td>\n",
       "      <td>0.096354</td>\n",
       "      <td>0.097917</td>\n",
       "      <td>0.097917</td>\n",
       "      <td>1443120000</td>\n",
       "    </tr>\n",
       "    <tr>\n",
       "      <th>1</th>\n",
       "      <td>1997-05-16</td>\n",
       "      <td>0.098438</td>\n",
       "      <td>0.098958</td>\n",
       "      <td>0.085417</td>\n",
       "      <td>0.086458</td>\n",
       "      <td>0.086458</td>\n",
       "      <td>294000000</td>\n",
       "    </tr>\n",
       "    <tr>\n",
       "      <th>2</th>\n",
       "      <td>1997-05-19</td>\n",
       "      <td>0.088021</td>\n",
       "      <td>0.088542</td>\n",
       "      <td>0.081250</td>\n",
       "      <td>0.085417</td>\n",
       "      <td>0.085417</td>\n",
       "      <td>122136000</td>\n",
       "    </tr>\n",
       "    <tr>\n",
       "      <th>3</th>\n",
       "      <td>1997-05-20</td>\n",
       "      <td>0.086458</td>\n",
       "      <td>0.087500</td>\n",
       "      <td>0.081771</td>\n",
       "      <td>0.081771</td>\n",
       "      <td>0.081771</td>\n",
       "      <td>109344000</td>\n",
       "    </tr>\n",
       "    <tr>\n",
       "      <th>4</th>\n",
       "      <td>1997-05-21</td>\n",
       "      <td>0.081771</td>\n",
       "      <td>0.082292</td>\n",
       "      <td>0.068750</td>\n",
       "      <td>0.071354</td>\n",
       "      <td>0.071354</td>\n",
       "      <td>377064000</td>\n",
       "    </tr>\n",
       "  </tbody>\n",
       "</table>\n",
       "</div>"
      ],
      "text/plain": [
       "         Date      Open      High       Low     Close  Adj Close      Volume\n",
       "0  1997-05-15  0.121875  0.125000  0.096354  0.097917   0.097917  1443120000\n",
       "1  1997-05-16  0.098438  0.098958  0.085417  0.086458   0.086458   294000000\n",
       "2  1997-05-19  0.088021  0.088542  0.081250  0.085417   0.085417   122136000\n",
       "3  1997-05-20  0.086458  0.087500  0.081771  0.081771   0.081771   109344000\n",
       "4  1997-05-21  0.081771  0.082292  0.068750  0.071354   0.071354   377064000"
      ]
     },
     "execution_count": 69,
     "metadata": {},
     "output_type": "execute_result"
    }
   ],
   "source": [
    "data.head()"
   ]
  },
  {
   "cell_type": "code",
   "execution_count": 70,
   "id": "0d2b7186",
   "metadata": {},
   "outputs": [
    {
     "data": {
      "text/html": [
       "<div>\n",
       "<style scoped>\n",
       "    .dataframe tbody tr th:only-of-type {\n",
       "        vertical-align: middle;\n",
       "    }\n",
       "\n",
       "    .dataframe tbody tr th {\n",
       "        vertical-align: top;\n",
       "    }\n",
       "\n",
       "    .dataframe thead th {\n",
       "        text-align: right;\n",
       "    }\n",
       "</style>\n",
       "<table border=\"1\" class=\"dataframe\">\n",
       "  <thead>\n",
       "    <tr style=\"text-align: right;\">\n",
       "      <th></th>\n",
       "      <th>Open</th>\n",
       "      <th>High</th>\n",
       "      <th>Low</th>\n",
       "      <th>Close</th>\n",
       "      <th>Adj Close</th>\n",
       "      <th>Volume</th>\n",
       "    </tr>\n",
       "  </thead>\n",
       "  <tbody>\n",
       "    <tr>\n",
       "      <th>count</th>\n",
       "      <td>6516.000000</td>\n",
       "      <td>6516.000000</td>\n",
       "      <td>6516.000000</td>\n",
       "      <td>6516.000000</td>\n",
       "      <td>6516.000000</td>\n",
       "      <td>6.516000e+03</td>\n",
       "    </tr>\n",
       "    <tr>\n",
       "      <th>mean</th>\n",
       "      <td>31.611626</td>\n",
       "      <td>31.991995</td>\n",
       "      <td>31.193432</td>\n",
       "      <td>31.599740</td>\n",
       "      <td>31.599740</td>\n",
       "      <td>1.425338e+08</td>\n",
       "    </tr>\n",
       "    <tr>\n",
       "      <th>std</th>\n",
       "      <td>48.095343</td>\n",
       "      <td>48.659651</td>\n",
       "      <td>47.464476</td>\n",
       "      <td>48.060258</td>\n",
       "      <td>48.060258</td>\n",
       "      <td>1.401619e+08</td>\n",
       "    </tr>\n",
       "    <tr>\n",
       "      <th>min</th>\n",
       "      <td>0.070313</td>\n",
       "      <td>0.072396</td>\n",
       "      <td>0.065625</td>\n",
       "      <td>0.069792</td>\n",
       "      <td>0.069792</td>\n",
       "      <td>9.744000e+06</td>\n",
       "    </tr>\n",
       "    <tr>\n",
       "      <th>25%</th>\n",
       "      <td>1.998875</td>\n",
       "      <td>2.028500</td>\n",
       "      <td>1.964750</td>\n",
       "      <td>2.001250</td>\n",
       "      <td>2.001250</td>\n",
       "      <td>6.888182e+07</td>\n",
       "    </tr>\n",
       "    <tr>\n",
       "      <th>50%</th>\n",
       "      <td>6.456750</td>\n",
       "      <td>6.535500</td>\n",
       "      <td>6.353250</td>\n",
       "      <td>6.444250</td>\n",
       "      <td>6.444250</td>\n",
       "      <td>1.059050e+08</td>\n",
       "    </tr>\n",
       "    <tr>\n",
       "      <th>75%</th>\n",
       "      <td>38.451375</td>\n",
       "      <td>38.688000</td>\n",
       "      <td>38.203001</td>\n",
       "      <td>38.464625</td>\n",
       "      <td>38.464625</td>\n",
       "      <td>1.607700e+08</td>\n",
       "    </tr>\n",
       "    <tr>\n",
       "      <th>max</th>\n",
       "      <td>187.199997</td>\n",
       "      <td>188.654007</td>\n",
       "      <td>184.839493</td>\n",
       "      <td>186.570496</td>\n",
       "      <td>186.570496</td>\n",
       "      <td>2.086584e+09</td>\n",
       "    </tr>\n",
       "  </tbody>\n",
       "</table>\n",
       "</div>"
      ],
      "text/plain": [
       "              Open         High          Low        Close    Adj Close  \\\n",
       "count  6516.000000  6516.000000  6516.000000  6516.000000  6516.000000   \n",
       "mean     31.611626    31.991995    31.193432    31.599740    31.599740   \n",
       "std      48.095343    48.659651    47.464476    48.060258    48.060258   \n",
       "min       0.070313     0.072396     0.065625     0.069792     0.069792   \n",
       "25%       1.998875     2.028500     1.964750     2.001250     2.001250   \n",
       "50%       6.456750     6.535500     6.353250     6.444250     6.444250   \n",
       "75%      38.451375    38.688000    38.203001    38.464625    38.464625   \n",
       "max     187.199997   188.654007   184.839493   186.570496   186.570496   \n",
       "\n",
       "             Volume  \n",
       "count  6.516000e+03  \n",
       "mean   1.425338e+08  \n",
       "std    1.401619e+08  \n",
       "min    9.744000e+06  \n",
       "25%    6.888182e+07  \n",
       "50%    1.059050e+08  \n",
       "75%    1.607700e+08  \n",
       "max    2.086584e+09  "
      ]
     },
     "execution_count": 70,
     "metadata": {},
     "output_type": "execute_result"
    }
   ],
   "source": [
    "data.describe()"
   ]
  },
  {
   "cell_type": "code",
   "execution_count": 71,
   "id": "5adf0e83",
   "metadata": {},
   "outputs": [
    {
     "name": "stdout",
     "output_type": "stream",
     "text": [
      "<class 'pandas.core.frame.DataFrame'>\n",
      "RangeIndex: 6516 entries, 0 to 6515\n",
      "Data columns (total 7 columns):\n",
      " #   Column     Non-Null Count  Dtype  \n",
      "---  ------     --------------  -----  \n",
      " 0   Date       6516 non-null   object \n",
      " 1   Open       6516 non-null   float64\n",
      " 2   High       6516 non-null   float64\n",
      " 3   Low        6516 non-null   float64\n",
      " 4   Close      6516 non-null   float64\n",
      " 5   Adj Close  6516 non-null   float64\n",
      " 6   Volume     6516 non-null   int64  \n",
      "dtypes: float64(5), int64(1), object(1)\n",
      "memory usage: 356.5+ KB\n"
     ]
    }
   ],
   "source": [
    "data.info()"
   ]
  },
  {
   "cell_type": "code",
   "execution_count": 72,
   "id": "5c8db962",
   "metadata": {},
   "outputs": [
    {
     "data": {
      "text/plain": [
       "count           6516\n",
       "unique          6516\n",
       "top       1997-05-15\n",
       "freq               1\n",
       "Name: Date, dtype: object"
      ]
     },
     "execution_count": 72,
     "metadata": {},
     "output_type": "execute_result"
    }
   ],
   "source": [
    "data['Date'].describe()"
   ]
  },
  {
   "cell_type": "code",
   "execution_count": 73,
   "id": "9ce2bb45",
   "metadata": {},
   "outputs": [
    {
     "data": {
      "text/plain": [
       "count    6516.000000\n",
       "mean       31.599740\n",
       "std        48.060258\n",
       "min         0.069792\n",
       "25%         2.001250\n",
       "50%         6.444250\n",
       "75%        38.464625\n",
       "max       186.570496\n",
       "Name: Close, dtype: float64"
      ]
     },
     "execution_count": 73,
     "metadata": {},
     "output_type": "execute_result"
    }
   ],
   "source": [
    "data['Close'].describe()"
   ]
  },
  {
   "cell_type": "code",
   "execution_count": 74,
   "id": "a5f5ce4a",
   "metadata": {},
   "outputs": [
    {
     "data": {
      "text/html": [
       "<div>\n",
       "<style scoped>\n",
       "    .dataframe tbody tr th:only-of-type {\n",
       "        vertical-align: middle;\n",
       "    }\n",
       "\n",
       "    .dataframe tbody tr th {\n",
       "        vertical-align: top;\n",
       "    }\n",
       "\n",
       "    .dataframe thead th {\n",
       "        text-align: right;\n",
       "    }\n",
       "</style>\n",
       "<table border=\"1\" class=\"dataframe\">\n",
       "  <thead>\n",
       "    <tr style=\"text-align: right;\">\n",
       "      <th></th>\n",
       "      <th>Date</th>\n",
       "      <th>Close</th>\n",
       "    </tr>\n",
       "  </thead>\n",
       "  <tbody>\n",
       "    <tr>\n",
       "      <th>0</th>\n",
       "      <td>1997-05-15</td>\n",
       "      <td>0.097917</td>\n",
       "    </tr>\n",
       "    <tr>\n",
       "      <th>1</th>\n",
       "      <td>1997-05-16</td>\n",
       "      <td>0.086458</td>\n",
       "    </tr>\n",
       "    <tr>\n",
       "      <th>2</th>\n",
       "      <td>1997-05-19</td>\n",
       "      <td>0.085417</td>\n",
       "    </tr>\n",
       "    <tr>\n",
       "      <th>3</th>\n",
       "      <td>1997-05-20</td>\n",
       "      <td>0.081771</td>\n",
       "    </tr>\n",
       "    <tr>\n",
       "      <th>4</th>\n",
       "      <td>1997-05-21</td>\n",
       "      <td>0.071354</td>\n",
       "    </tr>\n",
       "    <tr>\n",
       "      <th>...</th>\n",
       "      <td>...</td>\n",
       "      <td>...</td>\n",
       "    </tr>\n",
       "    <tr>\n",
       "      <th>6511</th>\n",
       "      <td>2023-03-30</td>\n",
       "      <td>102.000000</td>\n",
       "    </tr>\n",
       "    <tr>\n",
       "      <th>6512</th>\n",
       "      <td>2023-03-31</td>\n",
       "      <td>103.290001</td>\n",
       "    </tr>\n",
       "    <tr>\n",
       "      <th>6513</th>\n",
       "      <td>2023-04-03</td>\n",
       "      <td>102.410004</td>\n",
       "    </tr>\n",
       "    <tr>\n",
       "      <th>6514</th>\n",
       "      <td>2023-04-04</td>\n",
       "      <td>103.949997</td>\n",
       "    </tr>\n",
       "    <tr>\n",
       "      <th>6515</th>\n",
       "      <td>2023-04-05</td>\n",
       "      <td>101.099998</td>\n",
       "    </tr>\n",
       "  </tbody>\n",
       "</table>\n",
       "<p>6516 rows × 2 columns</p>\n",
       "</div>"
      ],
      "text/plain": [
       "            Date       Close\n",
       "0     1997-05-15    0.097917\n",
       "1     1997-05-16    0.086458\n",
       "2     1997-05-19    0.085417\n",
       "3     1997-05-20    0.081771\n",
       "4     1997-05-21    0.071354\n",
       "...          ...         ...\n",
       "6511  2023-03-30  102.000000\n",
       "6512  2023-03-31  103.290001\n",
       "6513  2023-04-03  102.410004\n",
       "6514  2023-04-04  103.949997\n",
       "6515  2023-04-05  101.099998\n",
       "\n",
       "[6516 rows x 2 columns]"
      ]
     },
     "execution_count": 74,
     "metadata": {},
     "output_type": "execute_result"
    }
   ],
   "source": [
    "data=data[['Date','Close']]\n",
    "data"
   ]
  },
  {
   "cell_type": "code",
   "execution_count": 75,
   "id": "bfc3e8e4",
   "metadata": {},
   "outputs": [
    {
     "data": {
      "text/plain": [
       "device(type='cpu')"
      ]
     },
     "execution_count": 75,
     "metadata": {},
     "output_type": "execute_result"
    }
   ],
   "source": [
    "#Selecting the appropriate device (GPU if available, otherwise CPU) for tensor operations\n",
    "device = torch.device(\"cuda\" if torch.cuda.is_available() else \"cpu\")\n",
    "device"
   ]
  },
  {
   "cell_type": "code",
   "execution_count": 76,
   "id": "9e610da3",
   "metadata": {
    "slideshow": {
     "slide_type": "-"
    }
   },
   "outputs": [],
   "source": [
    "data['Date'] = pd.to_datetime(data['Date'])"
   ]
  },
  {
   "cell_type": "code",
   "execution_count": 77,
   "id": "18082e8d",
   "metadata": {
    "scrolled": true
   },
   "outputs": [
    {
     "data": {
      "text/plain": [
       "[<matplotlib.lines.Line2D at 0x18d67fd83a0>]"
      ]
     },
     "execution_count": 77,
     "metadata": {},
     "output_type": "execute_result"
    },
    {
     "data": {
      "image/png": "[encoded data removed]",
      "text/plain": [
       "<Figure size 640x480 with 1 Axes>"
      ]
     },
     "metadata": {},
     "output_type": "display_data"
    }
   ],
   "source": [
    "plt.plot(data['Date'],data['Close'],color='red')"
   ]
  },
  {
   "cell_type": "markdown",
   "id": "51f5dcd1",
   "metadata": {},
   "source": [
    "# Data Preprocessing"
   ]
  },
  {
   "cell_type": "code",
   "execution_count": 78,
   "id": "dfe99587",
   "metadata": {},
   "outputs": [],
   "source": [
    "def prepare_dataframe_for_lstm(df, n_steps):\n",
    "    \"\"\"\n",
    "    Preprocesses a dataframe for LSTM model by creating lag features.\n",
    "    Args:\n",
    "    df (DataFrame): Input dataframe with 'Date' and 'Close' columns.\n",
    "    n_steps (int): Number of lag steps.\n",
    "    Returns:\n",
    "    DataFrame: Processed dataframe with lag features.\n",
    "    \"\"\"\n",
    "    df = dc(df)  \n",
    "    #Make a deep copy of the input dataframe\n",
    "    df.set_index('Date', inplace=True)  # Set 'Date' column as index\n",
    "    #Create lag features for 'Close' column\n",
    "    for i in range(1, n_steps + 1):\n",
    "        df[f'Close(t-{i})'] = df['Close'].shift(i)\n",
    "\n",
    "    df.dropna(inplace=True)  \n",
    "    #Drop rows with NaN values resulting from lag shift\n",
    "\n",
    "    return df "
   ]
  },
  {
   "cell_type": "code",
   "execution_count": 80,
   "id": "a45e365a",
   "metadata": {},
   "outputs": [
    {
     "data": {
      "text/html": [
       "<div>\n",
       "<style scoped>\n",
       "    .dataframe tbody tr th:only-of-type {\n",
       "        vertical-align: middle;\n",
       "    }\n",
       "\n",
       "    .dataframe tbody tr th {\n",
       "        vertical-align: top;\n",
       "    }\n",
       "\n",
       "    .dataframe thead th {\n",
       "        text-align: right;\n",
       "    }\n",
       "</style>\n",
       "<table border=\"1\" class=\"dataframe\">\n",
       "  <thead>\n",
       "    <tr style=\"text-align: right;\">\n",
       "      <th></th>\n",
       "      <th>Close</th>\n",
       "      <th>Close(t-1)</th>\n",
       "      <th>Close(t-2)</th>\n",
       "      <th>Close(t-3)</th>\n",
       "      <th>Close(t-4)</th>\n",
       "      <th>Close(t-5)</th>\n",
       "      <th>Close(t-6)</th>\n",
       "      <th>Close(t-7)</th>\n",
       "    </tr>\n",
       "    <tr>\n",
       "      <th>Date</th>\n",
       "      <th></th>\n",
       "      <th></th>\n",
       "      <th></th>\n",
       "      <th></th>\n",
       "      <th></th>\n",
       "      <th></th>\n",
       "      <th></th>\n",
       "      <th></th>\n",
       "    </tr>\n",
       "  </thead>\n",
       "  <tbody>\n",
       "    <tr>\n",
       "      <th>1997-05-27</th>\n",
       "      <td>0.079167</td>\n",
       "      <td>0.075000</td>\n",
       "      <td>0.069792</td>\n",
       "      <td>0.071354</td>\n",
       "      <td>0.081771</td>\n",
       "      <td>0.085417</td>\n",
       "      <td>0.086458</td>\n",
       "      <td>0.097917</td>\n",
       "    </tr>\n",
       "    <tr>\n",
       "      <th>1997-05-28</th>\n",
       "      <td>0.076563</td>\n",
       "      <td>0.079167</td>\n",
       "      <td>0.075000</td>\n",
       "      <td>0.069792</td>\n",
       "      <td>0.071354</td>\n",
       "      <td>0.081771</td>\n",
       "      <td>0.085417</td>\n",
       "      <td>0.086458</td>\n",
       "    </tr>\n",
       "    <tr>\n",
       "      <th>1997-05-29</th>\n",
       "      <td>0.075260</td>\n",
       "      <td>0.076563</td>\n",
       "      <td>0.079167</td>\n",
       "      <td>0.075000</td>\n",
       "      <td>0.069792</td>\n",
       "      <td>0.071354</td>\n",
       "      <td>0.081771</td>\n",
       "      <td>0.085417</td>\n",
       "    </tr>\n",
       "    <tr>\n",
       "      <th>1997-05-30</th>\n",
       "      <td>0.075000</td>\n",
       "      <td>0.075260</td>\n",
       "      <td>0.076563</td>\n",
       "      <td>0.079167</td>\n",
       "      <td>0.075000</td>\n",
       "      <td>0.069792</td>\n",
       "      <td>0.071354</td>\n",
       "      <td>0.081771</td>\n",
       "    </tr>\n",
       "    <tr>\n",
       "      <th>1997-06-02</th>\n",
       "      <td>0.075521</td>\n",
       "      <td>0.075000</td>\n",
       "      <td>0.075260</td>\n",
       "      <td>0.076563</td>\n",
       "      <td>0.079167</td>\n",
       "      <td>0.075000</td>\n",
       "      <td>0.069792</td>\n",
       "      <td>0.071354</td>\n",
       "    </tr>\n",
       "    <tr>\n",
       "      <th>...</th>\n",
       "      <td>...</td>\n",
       "      <td>...</td>\n",
       "      <td>...</td>\n",
       "      <td>...</td>\n",
       "      <td>...</td>\n",
       "      <td>...</td>\n",
       "      <td>...</td>\n",
       "      <td>...</td>\n",
       "    </tr>\n",
       "    <tr>\n",
       "      <th>2023-03-30</th>\n",
       "      <td>102.000000</td>\n",
       "      <td>100.250000</td>\n",
       "      <td>97.239998</td>\n",
       "      <td>98.040001</td>\n",
       "      <td>98.129997</td>\n",
       "      <td>98.709999</td>\n",
       "      <td>98.699997</td>\n",
       "      <td>100.610001</td>\n",
       "    </tr>\n",
       "    <tr>\n",
       "      <th>2023-03-31</th>\n",
       "      <td>103.290001</td>\n",
       "      <td>102.000000</td>\n",
       "      <td>100.250000</td>\n",
       "      <td>97.239998</td>\n",
       "      <td>98.040001</td>\n",
       "      <td>98.129997</td>\n",
       "      <td>98.709999</td>\n",
       "      <td>98.699997</td>\n",
       "    </tr>\n",
       "    <tr>\n",
       "      <th>2023-04-03</th>\n",
       "      <td>102.410004</td>\n",
       "      <td>103.290001</td>\n",
       "      <td>102.000000</td>\n",
       "      <td>100.250000</td>\n",
       "      <td>97.239998</td>\n",
       "      <td>98.040001</td>\n",
       "      <td>98.129997</td>\n",
       "      <td>98.709999</td>\n",
       "    </tr>\n",
       "    <tr>\n",
       "      <th>2023-04-04</th>\n",
       "      <td>103.949997</td>\n",
       "      <td>102.410004</td>\n",
       "      <td>103.290001</td>\n",
       "      <td>102.000000</td>\n",
       "      <td>100.250000</td>\n",
       "      <td>97.239998</td>\n",
       "      <td>98.040001</td>\n",
       "      <td>98.129997</td>\n",
       "    </tr>\n",
       "    <tr>\n",
       "      <th>2023-04-05</th>\n",
       "      <td>101.099998</td>\n",
       "      <td>103.949997</td>\n",
       "      <td>102.410004</td>\n",
       "      <td>103.290001</td>\n",
       "      <td>102.000000</td>\n",
       "      <td>100.250000</td>\n",
       "      <td>97.239998</td>\n",
       "      <td>98.040001</td>\n",
       "    </tr>\n",
       "  </tbody>\n",
       "</table>\n",
       "<p>6509 rows × 8 columns</p>\n",
       "</div>"
      ],
      "text/plain": [
       "                 Close  Close(t-1)  Close(t-2)  Close(t-3)  Close(t-4)  \\\n",
       "Date                                                                     \n",
       "1997-05-27    0.079167    0.075000    0.069792    0.071354    0.081771   \n",
       "1997-05-28    0.076563    0.079167    0.075000    0.069792    0.071354   \n",
       "1997-05-29    0.075260    0.076563    0.079167    0.075000    0.069792   \n",
       "1997-05-30    0.075000    0.075260    0.076563    0.079167    0.075000   \n",
       "1997-06-02    0.075521    0.075000    0.075260    0.076563    0.079167   \n",
       "...                ...         ...         ...         ...         ...   \n",
       "2023-03-30  102.000000  100.250000   97.239998   98.040001   98.129997   \n",
       "2023-03-31  103.290001  102.000000  100.250000   97.239998   98.040001   \n",
       "2023-04-03  102.410004  103.290001  102.000000  100.250000   97.239998   \n",
       "2023-04-04  103.949997  102.410004  103.290001  102.000000  100.250000   \n",
       "2023-04-05  101.099998  103.949997  102.410004  103.290001  102.000000   \n",
       "\n",
       "            Close(t-5)  Close(t-6)  Close(t-7)  \n",
       "Date                                            \n",
       "1997-05-27    0.085417    0.086458    0.097917  \n",
       "1997-05-28    0.081771    0.085417    0.086458  \n",
       "1997-05-29    0.071354    0.081771    0.085417  \n",
       "1997-05-30    0.069792    0.071354    0.081771  \n",
       "1997-06-02    0.075000    0.069792    0.071354  \n",
       "...                ...         ...         ...  \n",
       "2023-03-30   98.709999   98.699997  100.610001  \n",
       "2023-03-31   98.129997   98.709999   98.699997  \n",
       "2023-04-03   98.040001   98.129997   98.709999  \n",
       "2023-04-04   97.239998   98.040001   98.129997  \n",
       "2023-04-05  100.250000   97.239998   98.040001  \n",
       "\n",
       "[6509 rows x 8 columns]"
      ]
     },
     "execution_count": 80,
     "metadata": {},
     "output_type": "execute_result"
    }
   ],
   "source": [
    "lookback = 7  \n",
    "#Number of lag steps to consider\n",
    "shifted_df = prepare_dataframe_for_lstm(data, lookback)  \n",
    "#Prepare dataframe with lag features for LSTM\n",
    "shifted_df"
   ]
  },
  {
   "cell_type": "markdown",
   "id": "0c2e38a7",
   "metadata": {},
   "source": [
    "# Normalization "
   ]
  },
  {
   "cell_type": "code",
   "execution_count": 81,
   "id": "58b0eb22",
   "metadata": {},
   "outputs": [
    {
     "data": {
      "text/plain": [
       "array([[-0.99991063, -0.99995531, -1.        , ..., -0.99983244,\n",
       "        -0.99982128, -0.99969839],\n",
       "       [-0.99993855, -0.99991063, -0.99994415, ..., -0.99987154,\n",
       "        -0.99983244, -0.99982128],\n",
       "       [-0.99995253, -0.99993855, -0.99989946, ..., -0.99998325,\n",
       "        -0.99987154, -0.99983244],\n",
       "       ...,\n",
       "       [ 0.09747299,  0.10690997,  0.09308121, ...,  0.0506149 ,\n",
       "         0.05158   ,  0.05779984],\n",
       "       [ 0.11398769,  0.09747299,  0.10691495, ...,  0.04203581,\n",
       "         0.0506149 ,  0.05158   ],\n",
       "       [ 0.08342464,  0.11398769,  0.09747802, ...,  0.07431453,\n",
       "         0.04203581,  0.0506149 ]])"
      ]
     },
     "execution_count": 81,
     "metadata": {},
     "output_type": "execute_result"
    }
   ],
   "source": [
    "scaler = MinMaxScaler(feature_range=(-1,1)) \n",
    "#Initialize MinMaxScaler to scale features between -1 and 1\n",
    "shifted_df_as_np = scaler.fit_transform(shifted_df) \n",
    "#Scale the dataframe using MinMaxScaler\n",
    "shifted_df_as_np"
   ]
  },
  {
   "cell_type": "code",
   "execution_count": 84,
   "id": "52de529d",
   "metadata": {},
   "outputs": [
    {
     "name": "stdout",
     "output_type": "stream",
     "text": [
      "Shape of X features: (6509, 7)\n",
      "Shape of y target variable: (6509,)\n"
     ]
    }
   ],
   "source": [
    "# Extract features (all columns except the first one) from the scaled dataframe\n",
    "X = shifted_df_as_np[:, 1:]  \n",
    "# Extract target variable (the first column) from the scaled dataframe\n",
    "y = shifted_df_as_np[:, 0]  \n",
    "\n",
    "# Print the shapes of X (features) and y (target variable)\n",
    "print(\"Shape of X features:\", X.shape)\n",
    "print(\"Shape of y target variable:\", y.shape)\n"
   ]
  },
  {
   "cell_type": "code",
   "execution_count": 95,
   "id": "a223692a",
   "metadata": {},
   "outputs": [
    {
     "name": "stdout",
     "output_type": "stream",
     "text": [
      "Updated X after reversing the order of lagged features along the time axis:\n",
      " [[-0.99969839 -0.99982128 -0.99983244 ... -0.99998325 -1.\n",
      "  -0.99995531]\n",
      " [-0.99982128 -0.99983244 -0.99987154 ... -1.         -0.99994415\n",
      "  -0.99991063]\n",
      " [-0.99983244 -0.99987154 -0.99998325 ... -0.99994415 -0.99989946\n",
      "  -0.99993855]\n",
      " ...\n",
      " [ 0.05779984  0.05158     0.0506149  ...  0.07431453  0.09308121\n",
      "   0.10690997]\n",
      " [ 0.05158     0.0506149   0.04203581 ...  0.09308121  0.10691495\n",
      "   0.09747299]\n",
      " [ 0.0506149   0.04203581  0.07431453 ...  0.10691495  0.09747802\n",
      "   0.11398769]]\n"
     ]
    }
   ],
   "source": [
    "X = dc(np.flip(X, axis=1))  \n",
    "#Reverse the order of lagged features along the time axis\n",
    "#Print the updated X after reversing the order of lagged features\n",
    "print(\"Updated X after reversing the order of lagged features along the time axis:\\n\", X)\n"
   ]
  },
  {
   "cell_type": "code",
   "execution_count": 96,
   "id": "e00f80ca",
   "metadata": {},
   "outputs": [
    {
     "name": "stdout",
     "output_type": "stream",
     "text": [
      "Index to split the data into training and testing sets: 6183\n"
     ]
    }
   ],
   "source": [
    "split_index = int(len(X) * 0.95)  \n",
    "# Calculate the index to split the data into training and testing sets\n",
    "print(\"Index to split the data into training and testing sets:\", split_index)"
   ]
  },
  {
   "cell_type": "code",
   "execution_count": 97,
   "id": "6374f02a",
   "metadata": {},
   "outputs": [
    {
     "name": "stdout",
     "output_type": "stream",
     "text": [
      "Shape of X_train training features: (6183, 7)\n",
      "Shape of X_test testing features: (326, 7)\n",
      "Shape of y_train training target variable: (6183,)\n",
      "Shape of y_test testing target variable: (326,)\n"
     ]
    }
   ],
   "source": [
    "#Split the data into training and testing sets for features (X) and target variable (y)\n",
    "X_train = X[:split_index]  \n",
    "#Training features from the beginning to the split index\n",
    "X_test = X[split_index:]   \n",
    "#Testing features from the split index to the end\n",
    "y_train = y[:split_index]  \n",
    "#training target variable from the beginning to the split index\n",
    "y_test = y[split_index:]   \n",
    "#Testing target variable from the split index to the end\n",
    "\n",
    "\n",
    "print(\"Shape of X_train training features:\", X_train.shape)\n",
    "print(\"Shape of X_test testing features:\", X_test.shape)\n",
    "print(\"Shape of y_train training target variable:\", y_train.shape)\n",
    "print(\"Shape of y_test testing target variable:\", y_test.shape)"
   ]
  },
  {
   "cell_type": "code",
   "execution_count": 98,
   "id": "9d25be10",
   "metadata": {},
   "outputs": [
    {
     "name": "stdout",
     "output_type": "stream",
     "text": [
      "Shape of X_train reshaped training features: (6183, 7, 1)\n",
      "Shape of X_test reshaped testing features: (326, 7, 1)\n",
      "Shape of y_train reshaped training target variable: (6183, 1)\n",
      "Shape of y_test reshaped testing target variable) (326, 1)\n"
     ]
    }
   ],
   "source": [
    "#Reshape the training and testing sets to be compatible with LSTM input shape\n",
    "X_train = X_train.reshape((-1, lookback, 1))  \n",
    "#Reshape training features to (batch_size, lookback, 1)\n",
    "X_test = X_test.reshape((-1, lookback, 1))   \n",
    "#Reshape testing features to (batch_size, lookback, 1)\n",
    "y_train = y_train.reshape((-1, 1))  \n",
    "#Reshape training target variable to (batch_size, 1)\n",
    "y_test = y_test.reshape((-1, 1))    \n",
    "#Reshape testing target variable to (batch_size, 1)\n",
    "\n",
    "\n",
    "print(\"Shape of X_train reshaped training features:\", X_train.shape)\n",
    "print(\"Shape of X_test reshaped testing features:\", X_test.shape)\n",
    "print(\"Shape of y_train reshaped training target variable:\", y_train.shape)\n",
    "print(\"Shape of y_test reshaped testing target variable)\", y_test.shape)"
   ]
  },
  {
   "cell_type": "code",
   "execution_count": 99,
   "id": "8e471bcc",
   "metadata": {},
   "outputs": [
    {
     "data": {
      "text/plain": [
       "(torch.Size([6183, 7, 1]),\n",
       " torch.Size([326, 7, 1]),\n",
       " torch.Size([6183, 1]),\n",
       " torch.Size([326, 1]))"
      ]
     },
     "execution_count": 99,
     "metadata": {},
     "output_type": "execute_result"
    }
   ],
   "source": [
    "X_train= torch.tensor(X_train).float()\n",
    "X_test= torch.tensor(X_test).float()\n",
    "y_train= torch.tensor(y_train).float()\n",
    "y_test= torch.tensor(y_test).float()\n",
    "\n",
    "X_train.shape, X_test.shape, y_train.shape, y_test.shape"
   ]
  },
  {
   "cell_type": "code",
   "execution_count": 103,
   "id": "e35529c5",
   "metadata": {},
   "outputs": [],
   "source": [
    "class TimeSeriesDataset(Dataset):\n",
    "    \"\"\"\n",
    "    PyTorch dataset class for time series data.\n",
    "    \"\"\"\n",
    "    \n",
    "    def __init__(self, X, y):\n",
    "        \"\"\"\n",
    "        Initialize the dataset with features (X) and target variable (y).\n",
    "        Args:\n",
    "        X (numpy.ndarray): Features.\n",
    "        y (numpy.ndarray): Target variable.\n",
    "        \"\"\"\n",
    "        self.X = X  #Features\n",
    "        self.y = y  #Target variable\n",
    "\n",
    "    def __len__(self):\n",
    "        \"\"\"\n",
    "        Return the length of the dataset.\n",
    "        Returns:\n",
    "        int: Length of the dataset.\n",
    "        \"\"\"\n",
    "        return len(self.X)\n",
    "\n",
    "    def __getitem__(self, i):\n",
    "        \"\"\"\n",
    "        Get a sample from the dataset at the given index.\n",
    "        Args:\n",
    "        i (int): Index of the sample.\n",
    "        Returns:\n",
    "        tuple: Tuple containing the feature and target variable at the given index.\n",
    "        \"\"\"\n",
    "        return self.X[i], self.y[i]\n",
    "\n",
    "#Create training and testing datasets\n",
    "train_dataset = TimeSeriesDataset(X_train, y_train)  \n",
    "#Training dataset\n",
    "#Testing dataset\n",
    "test_dataset = TimeSeriesDataset(X_test, y_test)    "
   ]
  },
  {
   "cell_type": "code",
   "execution_count": 104,
   "id": "c8e37a92",
   "metadata": {},
   "outputs": [
    {
     "data": {
      "text/plain": [
       "<__main__.TimeSeriesDataset at 0x18d67efcaf0>"
      ]
     },
     "execution_count": 104,
     "metadata": {},
     "output_type": "execute_result"
    }
   ],
   "source": [
    "train_dataset"
   ]
  },
  {
   "cell_type": "code",
   "execution_count": 105,
   "id": "c68e0d79",
   "metadata": {},
   "outputs": [],
   "source": [
    "batch_size = 16  \n",
    "#Set the batch size for DataLoader\n",
    "#Create DataLoader for training dataset\n",
    "train_loader = DataLoader(train_dataset, batch_size=batch_size, shuffle=True)\n",
    "#DataLoader for training dataset with batch_size=16 and shuffle=True\n",
    "#Create DataLoader for testing dataset\n",
    "test_loader = DataLoader(test_dataset, batch_size=batch_size, shuffle=False)\n",
    "#DataLoader for testing dataset with batch_size=16 and shuffle=False"
   ]
  },
  {
   "cell_type": "code",
   "execution_count": 108,
   "id": "6df275e0",
   "metadata": {},
   "outputs": [
    {
     "name": "stdout",
     "output_type": "stream",
     "text": [
      "Shape of x_batch (features): torch.Size([16, 7, 1])\n",
      "Shape of y_batch (target variable): torch.Size([16, 1])\n"
     ]
    }
   ],
   "source": [
    "for _, batch in enumerate(train_loader):\n",
    "    #Get a batch of data from the training loader\n",
    "    x_batch, y_batch = batch[0].to(device), batch[1].to(device)\n",
    "    #the shapes of features and target variables in the batch\n",
    "    print(\"Shape of x_batch (features):\", x_batch.shape)\n",
    "    print(\"Shape of y_batch (target variable):\", y_batch.shape)\n",
    "    #Break after printing the shapes of the first batch\n",
    "    break"
   ]
  },
  {
   "cell_type": "markdown",
   "id": "676f4113",
   "metadata": {},
   "source": [
    "# Model Creation  LSTM"
   ]
  },
  {
   "cell_type": "code",
   "execution_count": 109,
   "id": "d1a010a8",
   "metadata": {},
   "outputs": [],
   "source": [
    "class LSTM(nn.Module):\n",
    "    \"\"\"\n",
    "    LSTM model for time series forecasting.\n",
    "    \"\"\"\n",
    "\n",
    "    def __init__(self, input_size, hidden_size, num_stacked_layers):\n",
    "        \"\"\"\n",
    "        Initialize the LSTM model.\n",
    "        Args:\n",
    "        input_size (int): Size of the input features.\n",
    "        hidden_size (int): Size of the hidden state.\n",
    "        num_stacked_layers (int): Number of stacked LSTM layers.\n",
    "        \"\"\"\n",
    "        super().__init__()\n",
    "        self.hidden_size = hidden_size\n",
    "        self.num_stacked_layers = num_stacked_layers\n",
    "        self.lstm = nn.LSTM(input_size, hidden_size, num_stacked_layers,\n",
    "                            batch_first=True)  # LSTM layer\n",
    "        self.fc = nn.Linear(hidden_size, 1)  # Fully connected layer for output prediction\n",
    "\n",
    "    def forward(self, x):\n",
    "        \"\"\"\n",
    "        Forward pass of the LSTM model.\n",
    "        Args:\n",
    "        x (torch.Tensor): Input tensor of shape (batch_size, sequence_length, input_size).\n",
    "        Returns:\n",
    "        torch.Tensor: Output tensor of shape (batch_size, 1).\n",
    "        \"\"\"\n",
    "        batch_size = x.size(0)\n",
    "        h0 = torch.zeros(self.num_stacked_layers, batch_size, self.hidden_size).to(device)\n",
    "        c0 = torch.zeros(self.num_stacked_layers, batch_size, self.hidden_size).to(device)\n",
    "        # Initialize the hidden and cell state\n",
    "        out, _ = self.lstm(x, (h0, c0))  # LSTM forward pass\n",
    "        out = self.fc(out[:, -1, :])  # Fully connected layer for final prediction\n",
    "        return out\n"
   ]
  },
  {
   "cell_type": "code",
   "execution_count": 112,
   "id": "1d008954",
   "metadata": {},
   "outputs": [
    {
     "data": {
      "text/plain": [
       "LSTM(\n",
       "  (lstm): LSTM(1, 4, batch_first=True)\n",
       "  (fc): Linear(in_features=4, out_features=1, bias=True)\n",
       ")"
      ]
     },
     "execution_count": 112,
     "metadata": {},
     "output_type": "execute_result"
    }
   ],
   "source": [
    "model = LSTM(1, 4, 1)  \n",
    "#Initialize LSTM model with input_size=1, hidden_size=4, and num_stacked_layers=1\n",
    "model.to(device)  \n",
    "#Move the model to the specified device (GPU or CPU)\n",
    "model"
   ]
  },
  {
   "cell_type": "code",
   "execution_count": 114,
   "id": "5848b461",
   "metadata": {},
   "outputs": [],
   "source": [
    "def train_one_epoch():\n",
    "    \"\"\"\n",
    "    Function to train the model for one epoch.\n",
    "    \"\"\"\n",
    "    \n",
    "    model.train(True)  \n",
    "    #Set the model to training mode\n",
    "    print(f'Epoch: {epoch + 1}')  \n",
    "    #Print the current epoch number\n",
    "    running_loss = 0.0  \n",
    "    #Initialize running loss for the epoch\n",
    "    \n",
    "    for batch_index, batch in enumerate(train_loader):\n",
    "        #Iterate over batches in the training loader\n",
    "        \n",
    "        x_batch, y_batch = batch[0].to(device), batch[1].to(device)  \n",
    "        #Move batch data to device\n",
    "        \n",
    "        output = model(x_batch)  \n",
    "        #Forward pass: compute model predictions\n",
    "        loss = loss_function(output, y_batch)  \n",
    "        #Calculate the loss\n",
    "        running_loss += loss  \n",
    "        #Accumulate the loss for the epoch\n",
    "        optimizer.zero_grad()  \n",
    "        #Zero the gradients\n",
    "        loss.backward()  \n",
    "        #Backpropagation: compute gradients\n",
    "        optimizer.step()  \n",
    "        #Update model parameters using gradients\n",
    "        \n",
    "        if batch_index % 100 == 99:  \n",
    "            #Print loss every 100 batches\n",
    "            avg_loss_across_batches = running_loss / 100\n",
    "            print('Batch {0}, Loss:{1:.3f}'.format(batch_index + 1, avg_loss_across_batches))\n",
    "            running_loss = 0.0  \n",
    "            #Reset running loss after printing\n"
   ]
  },
  {
   "cell_type": "code",
   "execution_count": 115,
   "id": "9738abbf",
   "metadata": {},
   "outputs": [],
   "source": [
    "def validate_one_epoch():\n",
    "    \"\"\"\n",
    "    Function to validate the model for one epoch.\n",
    "    \"\"\"\n",
    "    model.train(False)  \n",
    "    #Set the model to evaluation mode (no gradient computation)\n",
    "    running_loss = 0.0  \n",
    "    #Initialize running loss for the validation\n",
    "    \n",
    "    for batch_index, batch in enumerate(test_loader):\n",
    "        #Iterate over batches in the test loader\n",
    "        \n",
    "        x_batch, y_batch = batch[0].to(device), batch[1].to(device)  \n",
    "        #Move batch data to device\n",
    "        \n",
    "        with torch.no_grad():\n",
    "            #Perform inference without gradient computation\n",
    "            output = model(x_batch)  \n",
    "            #Forward pass: compute model predictions\n",
    "            loss = loss_function(output, y_batch)  \n",
    "            #Calculate the loss\n",
    "            running_loss += loss  \n",
    "            #Accumulate the loss for the epoch\n",
    "    \n",
    "    avg_loss_across_batches = running_loss / len(test_loader)  \n",
    "    #Calculate average loss\n",
    "    \n",
    "    #the average validation loss\n",
    "    print('Val Loss : {0:.3f}'.format(avg_loss_across_batches))\n",
    "    print(\"***********************\") \n"
   ]
  },
  {
   "cell_type": "code",
   "execution_count": 116,
   "id": "f69c0ce1",
   "metadata": {},
   "outputs": [
    {
     "name": "stdout",
     "output_type": "stream",
     "text": [
      "Epoch: 1\n",
      "Batch 100, Loss:0.780\n",
      "Batch 200, Loss:0.199\n",
      "Batch 300, Loss:0.044\n",
      "Val Loss : 0.018\n",
      "***********************\n",
      "Epoch: 2\n",
      "Batch 100, Loss:0.006\n",
      "Batch 200, Loss:0.004\n",
      "Batch 300, Loss:0.003\n",
      "Val Loss : 0.008\n",
      "***********************\n",
      "Epoch: 3\n",
      "Batch 100, Loss:0.002\n",
      "Batch 200, Loss:0.001\n",
      "Batch 300, Loss:0.001\n",
      "Val Loss : 0.006\n",
      "***********************\n",
      "Epoch: 4\n",
      "Batch 100, Loss:0.001\n",
      "Batch 200, Loss:0.001\n",
      "Batch 300, Loss:0.001\n",
      "Val Loss : 0.005\n",
      "***********************\n",
      "Epoch: 5\n",
      "Batch 100, Loss:0.000\n",
      "Batch 200, Loss:0.000\n",
      "Batch 300, Loss:0.000\n",
      "Val Loss : 0.005\n",
      "***********************\n",
      "Epoch: 6\n",
      "Batch 100, Loss:0.000\n",
      "Batch 200, Loss:0.000\n",
      "Batch 300, Loss:0.000\n",
      "Val Loss : 0.004\n",
      "***********************\n",
      "Epoch: 7\n",
      "Batch 100, Loss:0.000\n",
      "Batch 200, Loss:0.000\n",
      "Batch 300, Loss:0.000\n",
      "Val Loss : 0.004\n",
      "***********************\n",
      "Epoch: 8\n",
      "Batch 100, Loss:0.000\n",
      "Batch 200, Loss:0.000\n",
      "Batch 300, Loss:0.000\n",
      "Val Loss : 0.004\n",
      "***********************\n",
      "Epoch: 9\n",
      "Batch 100, Loss:0.000\n",
      "Batch 200, Loss:0.000\n",
      "Batch 300, Loss:0.000\n",
      "Val Loss : 0.004\n",
      "***********************\n",
      "Epoch: 10\n",
      "Batch 100, Loss:0.000\n",
      "Batch 200, Loss:0.000\n",
      "Batch 300, Loss:0.000\n",
      "Val Loss : 0.003\n",
      "***********************\n"
     ]
    }
   ],
   "source": [
    "learning_rate = 0.001  \n",
    "#Set the learning rate for the optimizer\n",
    "num_epochs = 10  \n",
    "#Set the number of epochs for training\n",
    "loss_function = nn.MSELoss()  \n",
    "#Define the loss function (Mean Squared Error)\n",
    "optimizer = torch.optim.Adam(model.parameters(), lr=learning_rate)  \n",
    "#Initialize the optimizer (Adam)\n",
    "\n",
    "#Iterate over epochs\n",
    "for epoch in range(num_epochs):\n",
    "    #Train the model for one epoch\n",
    "    train_one_epoch()\n",
    "    \n",
    "    #Validate the model for one epoch\n",
    "    validate_one_epoch()"
   ]
  },
  {
   "cell_type": "code",
   "execution_count": 118,
   "id": "0b8aca7c",
   "metadata": {},
   "outputs": [
    {
     "data": {
      "image/png": "[encoded data removed]",
      "text/plain": [
       "<Figure size 640x480 with 1 Axes>"
      ]
     },
     "metadata": {},
     "output_type": "display_data"
    }
   ],
   "source": [
    "with torch.no_grad():\n",
    "    #Perform inference on training data without gradient computation\n",
    "    predicted = model(X_train.to(device)).to('cpu').numpy()  # Get predicted values\n",
    "    \n",
    "# Plot actual and predicted close prices\n",
    "plt.plot(y_train, label='Actual Close')  \n",
    "#Plot actual close prices\n",
    "plt.plot(predicted, label='Predicted Close')  \n",
    "#Plot predicted close prices\n",
    "plt.xlabel('Day')  \n",
    "plt.ylabel('Close')  \n",
    "plt.legend()  \n",
    "plt.show()  "
   ]
  },
  {
   "cell_type": "code",
   "execution_count": 121,
   "id": "440a2105",
   "metadata": {},
   "outputs": [
    {
     "data": {
      "text/plain": [
       "array([  0.62374397,   0.62271016,   0.62203207, ..., 168.93080305,\n",
       "       168.44557891, 168.97473446])"
      ]
     },
     "execution_count": 121,
     "metadata": {},
     "output_type": "execute_result"
    }
   ],
   "source": [
    "train_predictions = predicted.flatten()  \n",
    "#Flatten the predicted values\n",
    "dummies = np.zeros((X_train.shape[0], lookback + 1))  \n",
    "#Initialize an array for inverse transformation\n",
    "dummies[:, 0] = train_predictions  \n",
    "#Fill the first column with the predicted values\n",
    "dummies = scaler.inverse_transform(dummies) \n",
    "#Inverse transform the scaled values\n",
    "train_predictions = dc(dummies[:, 0]) \n",
    "#Deep copy the inverse transformed predicted values\n",
    "train_predictions "
   ]
  },
  {
   "cell_type": "code",
   "execution_count": 123,
   "id": "a7fef05f",
   "metadata": {},
   "outputs": [
    {
     "data": {
      "text/plain": [
       "array([7.91646265e-02, 7.65634249e-02, 7.52572660e-02, ...,\n",
       "       1.69091505e+02, 1.73315001e+02, 1.68871003e+02])"
      ]
     },
     "execution_count": 123,
     "metadata": {},
     "output_type": "execute_result"
    }
   ],
   "source": [
    "#Initialize an array for inverse transformation\n",
    "dummies = np.zeros((X_train.shape[0], lookback + 1))\n",
    "#Fill the first column with the actual target variable values (flattened)\n",
    "dummies[:, 0] = y_train.flatten()\n",
    "#Inverse transform the scaled values using the scaler\n",
    "dummies = scaler.inverse_transform(dummies)\n",
    "#Deep copy the inverse transformed target variable values\n",
    "new_y_train = dc(dummies[:, 0])\n",
    "new_y_train"
   ]
  },
  {
   "cell_type": "code",
   "execution_count": 124,
   "id": "c5bd2f91",
   "metadata": {},
   "outputs": [
    {
     "data": {
      "image/png": "[encoded data removed]",
      "text/plain": [
       "<Figure size 640x480 with 1 Axes>"
      ]
     },
     "metadata": {},
     "output_type": "display_data"
    }
   ],
   "source": [
    "plt.plot(new_y_train, label='Actual Close')\n",
    "plt.plot(train_predictions, label='Predicted Close')\n",
    "plt.xlabel('Day')\n",
    "plt.ylabel('Close')\n",
    "plt.legend()\n",
    "plt.show()"
   ]
  },
  {
   "cell_type": "code",
   "execution_count": 126,
   "id": "280478dc",
   "metadata": {},
   "outputs": [
    {
     "data": {
      "text/plain": [
       "array([168.19521881, 167.94989438, 167.14245472, 167.392259  ,\n",
       "       167.69412067, 167.91756833, 167.64542039, 167.81345357,\n",
       "       167.56558351, 167.39685001, 166.78351113, 167.17830461,\n",
       "       166.73289886, 165.79618838, 164.90205312, 164.15025027,\n",
       "       163.36890045, 163.80798106, 163.84751043, 162.97652475,\n",
       "       162.75276027, 161.81399328, 160.56630026, 158.54378264,\n",
       "       154.46894475, 152.14654971, 149.1032161 , 146.47100572,\n",
       "       144.81003846, 144.9021699 , 146.63940574, 148.62985854,\n",
       "       149.77352018, 147.38872966, 151.51067264, 154.12000578,\n",
       "       156.74039958, 158.27131233, 158.77335535, 157.73569824,\n",
       "       158.19370981, 158.16916514, 158.52554088, 157.69177795,\n",
       "       156.58372165, 155.20516261, 152.93897132, 153.20132585,\n",
       "       153.83907601, 154.05749357, 153.6470762 , 153.72489548,\n",
       "       152.68247506, 151.62801018, 148.17693821, 145.20432059,\n",
       "       144.0171055 , 145.43156445, 145.77609583, 145.06655695,\n",
       "       146.34725967, 149.23607191, 152.46328492, 155.66162903,\n",
       "       157.61793829, 159.94924299, 161.39162039, 162.37745357,\n",
       "       163.19866625, 164.63320671, 165.50912244, 165.45946617,\n",
       "       164.63837576, 164.32071791, 165.19844559, 164.70823025,\n",
       "       163.04730745, 161.68357748, 159.92786089, 157.92505238,\n",
       "       156.41136425, 156.37687054, 155.25330708, 154.96515174,\n",
       "       156.17188696, 155.91665239, 154.38989712, 152.30330546,\n",
       "       151.15739278, 148.41209128, 146.08030302, 146.06665227,\n",
       "       139.53973722, 135.28856231, 132.18483691, 130.29924087,\n",
       "       125.90884332, 122.25827086, 117.15595556, 114.40746786,\n",
       "       111.19647207, 109.4129204 , 110.01321298, 110.0049411 ,\n",
       "       111.5415801 , 110.17167368, 109.31639942, 108.9459394 ,\n",
       "       108.61251594, 106.96512299, 106.76407596, 107.78424027,\n",
       "       110.13867788, 113.4458695 , 116.29170911, 119.63991411,\n",
       "       121.29910834, 123.33451247, 124.0816187 , 123.90744935,\n",
       "       121.89062325, 118.19817311, 113.32291131, 109.49798191,\n",
       "       108.43236327, 106.33082443, 105.72107887, 106.21000195,\n",
       "       106.86300638, 108.71738243, 111.42524998, 112.09639334,\n",
       "       110.92368495, 110.53283496, 109.2378687 , 109.42950445,\n",
       "       110.68422155, 111.6265374 , 113.06796854, 114.11724213,\n",
       "       113.60335752, 112.58469946, 112.12647668, 111.68508945,\n",
       "       112.28609347, 112.65466512, 114.38627752, 117.24971276,\n",
       "       120.04861402, 121.36326298, 121.99630819, 120.27733079,\n",
       "       121.18662583, 122.01612011, 126.50499371, 129.61288493,\n",
       "       131.62516448, 134.94320556, 138.70079968, 140.64499223,\n",
       "       141.73111062, 141.47287466, 142.83502612, 143.20445232,\n",
       "       144.17194369, 144.55336989, 145.40613604, 145.26634924,\n",
       "       145.39492531, 144.00856266, 141.58707186, 139.87472808,\n",
       "       138.65292756, 138.7367385 , 136.70548629, 134.94120185,\n",
       "       133.45970082, 131.96802842, 131.21501391, 130.51104983,\n",
       "       129.30582642, 129.84010656, 130.31792728, 131.82468443,\n",
       "       134.00219587, 132.40604187, 131.99538273, 131.01766997,\n",
       "       129.25346056, 128.35733827, 126.66075177, 124.00055903,\n",
       "       122.1164359 , 119.44286753, 118.06653453, 116.89884234,\n",
       "       117.16609913, 116.3264571 , 115.29659387, 115.56144677,\n",
       "       117.60622745, 118.93547482, 119.75146287, 118.28922351,\n",
       "       117.15212601, 115.94560895, 115.18798814, 114.25157363,\n",
       "       111.67113301, 112.13345768, 113.47393941, 114.03068687,\n",
       "       114.57766315, 116.28228531, 117.67344183, 119.26923177,\n",
       "       118.50505376, 116.31815882, 112.28156638, 109.06984803,\n",
       "       104.66900121,  99.96852709,  95.68904744,  93.37931937,\n",
       "        91.74869946,  90.66098866,  88.7198642 ,  90.76610111,\n",
       "        93.63002129,  95.07744547,  96.22696815,  96.50278723,\n",
       "        96.02079236,  95.6013222 ,  94.40725672,  93.65011391,\n",
       "        93.47242349,  93.09934282,  93.06002466,  92.62046883,\n",
       "        93.62285409,  94.05936685,  93.9300988 ,  92.82774513,\n",
       "        91.19562452,  90.07325883,  89.90683195,  89.27280852,\n",
       "        89.31146526,  89.97377677,  90.25891404,  89.58542515,\n",
       "        88.91315349,  87.45539954,  86.53263438,  86.31628722,\n",
       "        85.20038841,  84.88550684,  84.07179484,  83.14056467,\n",
       "        83.26517779,  83.29411894,  83.83376266,  84.09932979,\n",
       "        83.64310515,  84.26743522,  85.13088408,  86.45539037,\n",
       "        89.00844195,  90.8452599 ,  93.08020898,  94.12527507,\n",
       "        94.62038156,  94.38355271,  95.26883388,  95.80493848,\n",
       "        95.81234051,  95.99396885,  96.83392492,  98.41065744,\n",
       "        99.0766651 , 100.26817801, 101.75424782, 105.36140022,\n",
       "       104.87457742, 104.1390439 , 103.46949989, 102.39027357,\n",
       "       100.93926162,  99.62245472,  99.00007972,  98.92544108,\n",
       "        99.37765136,  98.72844591,  98.04224698,  96.7749046 ,\n",
       "        96.28292317,  95.86499539,  94.82289177,  94.1121579 ,\n",
       "        93.84268342,  93.02789037,  92.52294322,  92.98805808,\n",
       "        92.95004052,  92.9427427 ,  93.04314741,  92.57289963,\n",
       "        91.83034828,  91.83325796,  92.5079613 ,  93.43816461,\n",
       "        95.31415482,  96.29821217,  96.68960409,  97.95883345,\n",
       "        98.20898651,  98.32773581,  98.18602729,  97.91911093,\n",
       "        97.50913544,  98.22484383,  99.17640006, 100.33552857,\n",
       "       100.88887585, 101.81602636])"
      ]
     },
     "execution_count": 126,
     "metadata": {},
     "output_type": "execute_result"
    }
   ],
   "source": [
    "#Perform inference on the test data using the trained model and convert predictions to NumPy array\n",
    "test_predictions = model(X_test.to(device)).detach().cpu().numpy().flatten()\n",
    "\n",
    "#Initialize an array for inverse transformation\n",
    "dummies = np.zeros((X_test.shape[0], lookback + 1))\n",
    "#Fill the first column with the predicted values\n",
    "dummies[:, 0] = test_predictions\n",
    "#nverse transform the scaled values using the scaler\n",
    "dummies = scaler.inverse_transform(dummies)\n",
    "#Deep copy the inverse transformed predicted values\n",
    "test_predictions = dc(dummies[:, 0])\n",
    "test_predictions"
   ]
  },
  {
   "cell_type": "code",
   "execution_count": 127,
   "id": "9250b686",
   "metadata": {},
   "outputs": [
    {
     "data": {
      "text/plain": [
       "array([170.01749949, 167.07899763, 170.41700626, 171.03700377,\n",
       "       171.0684961 , 169.66949429, 170.66099675, 169.20100565,\n",
       "       168.64449858, 166.71699707, 170.40449492, 167.52200227,\n",
       "       164.35699578, 163.25399737, 162.55400179, 161.48599177,\n",
       "       165.36199892, 165.20699954, 161.21400501, 162.13799851,\n",
       "       158.91749416, 156.29899568, 151.66749509, 142.64300408,\n",
       "       144.54400445, 139.98599336, 138.87249844, 139.63749627,\n",
       "       143.97799855, 149.57350001, 151.19349835, 150.61250219,\n",
       "       138.84550541, 157.63949825, 157.93550165, 161.41349717,\n",
       "       161.18949925, 159.003495  , 153.29350176, 155.1670061 ,\n",
       "       156.51049894, 158.10049453, 154.6524962 , 152.60149876,\n",
       "       150.19749381, 144.82699629, 151.35800212, 153.78849709,\n",
       "       153.56300403, 151.14199678, 152.05250627, 147.89849848,\n",
       "       145.64100565, 137.45300383, 136.01449488, 139.27900567,\n",
       "       146.81750468, 145.52450739, 141.8529947 , 147.36650272,\n",
       "       153.10400311, 157.23899657, 161.25050521, 161.49149987,\n",
       "       164.8890082 , 163.4080074 , 163.64950785, 164.77349929,\n",
       "       168.99049174, 169.31500275, 166.30099379, 162.99749555,\n",
       "       163.55999984, 168.34649425, 164.05499516, 158.75599734,\n",
       "       157.78449856, 154.4604964 , 151.1219931 , 150.78750525,\n",
       "       155.54100108, 151.70649644, 152.78500575, 158.11549591,\n",
       "       153.99799942, 148.29600432, 144.35000372, 146.07400567,\n",
       "       139.39100462, 138.16700588, 144.59649537, 124.2815027 ,\n",
       "       124.50000086, 124.25350088, 125.92849685, 116.40699847,\n",
       "       114.77249899, 108.78900163, 108.85900063, 105.37200234,\n",
       "       106.93049589, 113.05500005, 110.81050072, 115.36850069,\n",
       "       107.11250358, 107.31900035, 107.59100239, 107.55699918,\n",
       "       104.09999809, 106.77500184, 111.07749906, 115.14649953,\n",
       "       120.20950223, 121.68399725, 125.51100121, 122.34999935,\n",
       "       124.79000149, 122.99999961, 121.18000054, 116.15000198,\n",
       "       109.65000214, 103.66999806, 102.30999829, 107.6699986 ,\n",
       "       103.66000386, 106.22000101, 108.67999989, 108.94999683,\n",
       "       112.44000207, 116.45999935, 113.22000127, 107.40000166,\n",
       "       108.91999825, 106.20999917, 109.55999806, 113.50000006,\n",
       "       114.33000152, 116.3300018 , 115.54000075, 111.74999999,\n",
       "       109.22000073, 110.40000137, 110.62999651, 113.55000232,\n",
       "       113.76000211, 118.20999802, 122.76999614, 124.62999702,\n",
       "       122.41999835, 121.13999873, 114.80999825, 120.97000076,\n",
       "       122.28000035, 134.94999758, 135.38999806, 134.16000488,\n",
       "       139.5200031 , 142.57000925, 140.80000272, 139.41000507,\n",
       "       137.83000298, 142.69000357, 140.64000103, 143.55000084,\n",
       "       143.17999102, 144.7799968 , 142.10000324, 142.30000119,\n",
       "       138.22999608, 133.22000121, 133.61999431, 133.80000247,\n",
       "       137.27999891, 130.7499991 , 129.78999174, 128.72999653,\n",
       "       126.76999668, 127.82000117, 127.51000241, 126.11000014,\n",
       "       129.47999576, 129.82000839, 133.27000486, 136.44999605,\n",
       "       126.82000034, 128.55000227, 126.27999811, 123.52999999,\n",
       "       124.66000532, 122.19000322, 118.54000046, 117.30999894,\n",
       "       113.77999884, 115.15000254, 114.41000376, 118.01000286,\n",
       "       114.80000336, 112.99999964, 115.8799967 , 121.08999508,\n",
       "       120.94999707, 120.30000237, 114.55999805, 113.66999803,\n",
       "       112.2099986 , 112.90000206, 112.5299992 , 106.90000263,\n",
       "       113.79000069, 116.36000038, 115.0700003 , 115.25000012,\n",
       "       119.31999967, 119.82000008, 120.59999928, 115.66000341,\n",
       "       110.95999895, 103.41000365, 102.4400021 ,  96.79000116,\n",
       "        92.12000301,  89.30000302,  90.98000304,  90.52999899,\n",
       "        89.98000291,  86.13999884,  96.62999704, 100.79000101,\n",
       "        98.48999791,  98.94000197,  97.1200029 ,  94.84999805,\n",
       "        94.13999897,  92.45999904,  93.199997  ,  94.12999696,\n",
       "        93.410004  ,  93.94999701,  92.41999801,  96.54000095,\n",
       "        95.50000004,  94.12999696,  91.01000197,  88.24999993,\n",
       "        88.45999902,  90.34999813,  89.08999594,  90.55000302,\n",
       "        92.48999797,  91.58000208,  88.44999683,  87.86000102,\n",
       "        84.91999777,  85.19000167,  86.76999681,  83.79000078,\n",
       "        85.25000022,  83.04000085,  81.81999979,  84.17999969,\n",
       "        83.99999987,  85.82000033,  85.13999871,  83.12000309,\n",
       "        86.08000168,  87.3600013 ,  89.87000314,  95.08999606,\n",
       "        95.26999692,  98.12000304,  96.05000307,  95.45999893,\n",
       "        93.68      ,  97.25000011,  97.51999705,  96.32000002,\n",
       "        97.18000006,  99.22000076, 102.2399979 , 100.55000334,\n",
       "       103.12999722, 105.15000257, 112.9100039 , 103.38999927,\n",
       "       102.18000005, 102.11000105, 100.05000292,  98.23999805,\n",
       "        97.61000113,  99.54000066,  99.69999679, 101.16000387,\n",
       "        98.15000197,  97.19999715,  94.58000197,  95.79000102,\n",
       "        95.81999995,  93.5       ,  93.760002  ,  94.23000296,\n",
       "        92.16999798,  92.12999703,  94.90000205,  93.74999998,\n",
       "        93.55000299,  93.919998  ,  92.25000004,  90.73000301,\n",
       "        92.43000003,  94.87999697,  96.19999701, 100.04000108,\n",
       "        98.94999687,  97.70999906, 100.61000119,  98.69999701,\n",
       "        98.70999885,  98.12999689,  98.04000115,  97.23999792,\n",
       "       100.25000017, 102.00000023, 103.290001  , 102.41000421,\n",
       "       103.94999685, 101.09999768])"
      ]
     },
     "execution_count": 127,
     "metadata": {},
     "output_type": "execute_result"
    }
   ],
   "source": [
    "#Initialize an array for inverse transformation with the shape of X_test and lookback+1 columns\n",
    "dummies = np.zeros((X_test.shape[0], lookback + 1))\n",
    "#Fill the first column with the actual target variable values (flattened)\n",
    "dummies[:, 0] = y_test.flatten()\n",
    "#Inverse transform the scaled values using the scaler\n",
    "dummies = scaler.inverse_transform(dummies)\n",
    "#Deep copy the inverse transformed target variable values\n",
    "new_y_test = dc(dummies[:, 0])\n",
    "\n",
    "new_y_test"
   ]
  },
  {
   "cell_type": "code",
   "execution_count": 58,
   "id": "d1e2f260",
   "metadata": {},
   "outputs": [
    {
     "data": {
      "image/png": "[encoded data removed]",
      "text/plain": [
       "<Figure size 640x480 with 1 Axes>"
      ]
     },
     "metadata": {},
     "output_type": "display_data"
    }
   ],
   "source": [
    "plt.plot(new_y_test, label='Actual Close')\n",
    "plt.plot(test_predictions, label='Predicted Close')\n",
    "plt.xlabel('Day')\n",
    "plt.ylabel('Close')\n",
    "plt.legend()\n",
    "plt.show()"
   ]
  },
  {
   "cell_type": "code",
   "execution_count": null,
   "id": "fc42729c",
   "metadata": {},
   "outputs": [],
   "source": []
  },
  {
   "cell_type": "code",
   "execution_count": null,
   "id": "a28abe27",
   "metadata": {},
   "outputs": [],
   "source": []
  },
  {
   "cell_type": "code",
   "execution_count": null,
   "id": "e603078c",
   "metadata": {},
   "outputs": [],
   "source": []
  }
 ],
 "metadata": {
  "celltoolbar": "Aucun(e)",
  "kernelspec": {
   "display_name": "Python 3 (ipykernel)",
   "language": "python",
   "name": "python3"
  },
  "language_info": {
   "codemirror_mode": {
    "name": "ipython",
    "version": 3
   },
   "file_extension": ".py",
   "mimetype": "text/x-python",
   "name": "python",
   "nbconvert_exporter": "python",
   "pygments_lexer": "ipython3",
   "version": "3.9.16"
  }
 },
 "nbformat": 4,
 "nbformat_minor": 5
}
